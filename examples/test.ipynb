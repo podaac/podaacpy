{
 "cells": [
  {
   "cell_type": "markdown",
   "id": "363883ad-e1ef-4654-9438-88fad8cf5e61",
   "metadata": {},
   "source": [
    "# Test functions in podaacpy"
   ]
  },
  {
   "cell_type": "code",
   "execution_count": 2,
   "id": "f4f2b4bc-8339-4ad8-bb52-bb9fd6b6f35a",
   "metadata": {},
   "outputs": [
    {
     "name": "stdout",
     "output_type": "stream",
     "text": [
      "SWOT Simulated Level-2 KaRIn SSH from MITgcm ECCO LLC4320 for Cal/Val Version 1 C2147947806-POCLOUD\n",
      "SWOT Simulated Level-2 KaRIn SSH from MITgcm ECCO LLC4320 for Science Version 1 C2152044763-POCLOUD\n",
      "SWOT Simulated Level-2 KaRIn SSH from GLORYS for Cal/Val Version 1 C2152046451-POCLOUD\n",
      "SWOT Simulated Level-2 KaRIn SSH from GLORYS for Science Version 1 C2152045877-POCLOUD\n"
     ]
    }
   ],
   "source": [
    "from podaacpy import utils\n",
    "en=utils.find_dataset(keywords=['swot','karin'])"
   ]
  },
  {
   "cell_type": "code",
   "execution_count": 3,
   "id": "714134f9-fdff-4f61-87a8-c1e1d3a1a8b5",
   "metadata": {},
   "outputs": [
    {
     "name": "stdout",
     "output_type": "stream",
     "text": [
      "[{'short_name': 'SWOT Simulated Level-2 KaRIn SSH from MITgcm ECCO LLC4320 for Cal/Val Version 1', 'concept_id': 'C2147947806-POCLOUD'}, {'short_name': 'SWOT Simulated Level-2 KaRIn SSH from MITgcm ECCO LLC4320 for Science Version 1', 'concept_id': 'C2152044763-POCLOUD'}, {'short_name': 'SWOT Simulated Level-2 KaRIn SSH from GLORYS for Cal/Val Version 1', 'concept_id': 'C2152046451-POCLOUD'}, {'short_name': 'SWOT Simulated Level-2 KaRIn SSH from GLORYS for Science Version 1', 'concept_id': 'C2152045877-POCLOUD'}]\n"
     ]
    }
   ],
   "source": [
    "print(en)"
   ]
  },
  {
   "cell_type": "code",
   "execution_count": 5,
   "id": "c19d7b4a-a8fe-4685-923e-9b2f33eca783",
   "metadata": {},
   "outputs": [
    {
     "name": "stdout",
     "output_type": "stream",
     "text": [
      "GHRSST Level 4 MUR Global Foundation Sea Surface Temperature Analysis (v4.1) C1996881146-POCLOUD\n",
      "GHRSST Level 4 MUR 0.25deg Global Foundation Sea Surface Temperature Analysis (v4.2) C2036880657-POCLOUD\n"
     ]
    }
   ],
   "source": [
    "en=utils.find_dataset(keywords=['SST','MUR'])"
   ]
  },
  {
   "cell_type": "code",
   "execution_count": 6,
   "id": "e93ee77c-f790-467b-941a-561de89c81b6",
   "metadata": {},
   "outputs": [
    {
     "name": "stdout",
     "output_type": "stream",
     "text": [
      "SWOT Simulated Level-2 KaRIn SSH from MITgcm ECCO LLC4320 for Cal/Val Version 1 C2147947806-POCLOUD\n",
      "SWOT Simulated Level-2 KaRIn SSH from MITgcm ECCO LLC4320 for Science Version 1 C2152044763-POCLOUD\n",
      "SWOT Simulated Level-2 KaRIn SSH from GLORYS for Cal/Val Version 1 C2152046451-POCLOUD\n",
      "SWOT Simulated Level-2 KaRIn SSH from GLORYS for Science Version 1 C2152045877-POCLOUD\n",
      "SWOT Simulated Level-2 Nadir SSH from MITgcm ECCO LLC4320 for Cal/Val Version 1 C2158344213-POCLOUD\n",
      "SWOT Simulated Level-2 Nadir SSH from MITgcm ECCO LLC4320 for Science Version 1 C2158348170-POCLOUD\n",
      "SWOT Simulated Level-2 Nadir SSH from GLORYS for Cal/Val Version 1 C2158348264-POCLOUD\n",
      "SWOT Simulated Level-2 Nadir SSH from GLORYS for Science Version 1 C2158350299-POCLOUD\n"
     ]
    }
   ],
   "source": [
    "en=utils.find_dataset(keywords=['SSH'])"
   ]
  },
  {
   "cell_type": "code",
   "execution_count": 7,
   "id": "0ecdc395-081d-4966-99c0-e2cc81bc4ebf",
   "metadata": {},
   "outputs": [
    {
     "name": "stdout",
     "output_type": "stream",
     "text": [
      "MEaSUREs Gridded Sea Surface Height Anomalies Version 1812 C2036880672-POCLOUD\n"
     ]
    }
   ],
   "source": [
    "en=utils.find_dataset(keywords=['MEaSURES'])"
   ]
  },
  {
   "cell_type": "code",
   "execution_count": 8,
   "id": "14d3deb7-a30a-40d6-b8ab-88dfe33c4137",
   "metadata": {},
   "outputs": [
    {
     "name": "stdout",
     "output_type": "stream",
     "text": [
      "Ocean Surface Current Analyses Real-time (OSCAR) Surface Currents - Final 0.25 Degree (Version 2.0) C2098858642-POCLOUD\n",
      "Ocean Surface Current Analyses Real-time (OSCAR) Surface Currents - Interim 0.25 Degree (Version 2.0) C2102959417-POCLOUD\n",
      "Ocean Surface Current Analyses Real-time (OSCAR) Surface Currents - Near Real Time 0.25 Degree (Version 2.0) C2102958977-POCLOUD\n"
     ]
    }
   ],
   "source": [
    "en=utils.find_dataset(keywords=['OSCAR'])"
   ]
  },
  {
   "cell_type": "code",
   "execution_count": 9,
   "id": "6661fbe6-3cfa-4a3d-9aa3-6c0092c22d52",
   "metadata": {},
   "outputs": [
    {
     "name": "stdout",
     "output_type": "stream",
     "text": [
      "Tellus Level-4 Antarctica Mass Anomaly Time Series from JPL GRACE/GRACE-FO Mascon CRI Filtered Release 06 version 02 C2036882023-POCLOUD\n",
      "GRACE-FO Level-1A Release version 4.0 from JPL in ASCII C2036882111-POCLOUD\n",
      "GRACE-FO Level-1B Release version 4.0 from JPL in ASCII C2036882118-POCLOUD\n",
      "GRACE-FO Level-2  Monthly Geopotential Spherical Harmonics CSR Release 6.0 (RL06) C2036882127-POCLOUD\n",
      "GRACE-FO Level-2 Monthly Geopotential Spherical Harmonics GFZ Release 6.0 (RL06) C2036882139-POCLOUD\n",
      "GRACE-FO Level-2  Monthly Geopotential Spherical Harmonics JPL Release 6.0 (RL06) C2036882147-POCLOUD\n",
      "GRACE ATMOSPHERE AND OCEAN DE-ALIASING GFZ RELEASE 6.0 C2036882087-POCLOUD\n",
      "JPL GRACE/GRACE-FO Gridded-AOD1B Water-Equivalent-Thickness Surface-Mass Anomaly RL06 dataset for Tellus Level-3 1.0-degree grid C2036882154-POCLOUD\n",
      "JPL GRACE/GRACE-FO Gridded-AOD1B Water-Equivalent-Thickness Surface-Mass Anomaly RL06 dataset for Tellus Level-3 mascon 0.5-degree grid C2036882163-POCLOUD\n",
      "Tellus Level-4 Greenland Mass Anomaly Time Series from JPL GRACE/GRACE-FO Mascon CRI Filtered Release 06 version 02 C2036882170-POCLOUD\n",
      "Tellus Level-4 Ocean Mass Anomaly Time Series from JPL GRACE/GRACE-FO Mascon CRI Filtered Release 06 version 02 C2036882346-POCLOUD\n",
      "Monthly gridded Global Land Data Assimilation System (GLDAS) from Noah-v3.3 land hydrology model for GRACE and GRACE-FO over nominal months C2036877565-POCLOUD\n",
      "JPL GRACE and GRACE-FO Mascon Ocean, Ice, and Hydrology Equivalent Water Height Coastal Resolution Improvement (CRI) Filtered Release 06 Version 02 C1938032626-POCLOUD\n",
      "JPL GRACE and GRACE-FO Mascon Ocean, Ice, and Hydrology Equivalent Water Height JPL Release 06 Version 02 C2036882434-POCLOUD\n"
     ]
    }
   ],
   "source": [
    "en=utils.find_dataset(keywords=['GRACE'])"
   ]
  },
  {
   "cell_type": "code",
   "execution_count": 11,
   "id": "825ceb4e-2bfa-44d8-87c9-32667bcde4c9",
   "metadata": {},
   "outputs": [
    {
     "name": "stdout",
     "output_type": "stream",
     "text": [
      "Tellus Level-4 Antarctica Mass Anomaly Time Series from JPL GRACE/GRACE-FO Mascon CRI Filtered Release 06 version 02 C2036882023-POCLOUD\n",
      "Tellus Level-4 Greenland Mass Anomaly Time Series from JPL GRACE/GRACE-FO Mascon CRI Filtered Release 06 version 02 C2036882170-POCLOUD\n",
      "Tellus Level-4 Ocean Mass Anomaly Time Series from JPL GRACE/GRACE-FO Mascon CRI Filtered Release 06 version 02 C2036882346-POCLOUD\n"
     ]
    }
   ],
   "source": [
    "en=utils.find_dataset(keywords=['GRACE','mascon','level-4'])"
   ]
  },
  {
   "cell_type": "code",
   "execution_count": 4,
   "id": "cfa1d8a4-4a96-4b90-9d96-276c66ae34c1",
   "metadata": {},
   "outputs": [
    {
     "name": "stdout",
     "output_type": "stream",
     "text": [
      "{'hits': 0, 'took': 4, 'items': []}\n"
     ]
    }
   ],
   "source": [
    "#Thie function does not work properly yet. \n",
    "var_list=utils.find_variables(en[0]['concept_id'])"
   ]
  },
  {
   "cell_type": "code",
   "execution_count": null,
   "id": "99c9db32-e673-46f7-b5e5-12184166463b",
   "metadata": {},
   "outputs": [],
   "source": []
  }
 ],
 "metadata": {
  "kernelspec": {
   "display_name": "Python 3",
   "language": "python",
   "name": "python3"
  },
  "language_info": {
   "codemirror_mode": {
    "name": "ipython",
    "version": 3
   },
   "file_extension": ".py",
   "mimetype": "text/x-python",
   "name": "python",
   "nbconvert_exporter": "python",
   "pygments_lexer": "ipython3",
   "version": "3.9.7"
  }
 },
 "nbformat": 4,
 "nbformat_minor": 5
}
